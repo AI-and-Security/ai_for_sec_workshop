{
 "cells": [
  {
   "cell_type": "markdown",
   "id": "intro",
   "metadata": {},
   "source": [
    "## Exploring Attack Surface Management Data with Pandas and Seaborn\n",
    "\n",
    "This notebook demonstrates how to import and analyze an **Attack Surface Management (ASM)** dataset.  \n",
    "We'll use **pandas** for data manipulation and **seaborn** for visualization.\n",
    "\n",
    "**Setup!**\n",
    "\n",
    "You are a new analyst in your security operations center. As a new member of the team, you have been asked to explore the **attack surface** of your organization. The **attack surface** is the set of points on the boundary of a system, a system element, or an environment where an attacker can try to enter, cause an effect on, or extract data from, that system, system element, or environment.\n",
    "\n",
    "As a member of an organization's security team, it is imperative that you have an understanding of what you are trying to keep secure-- your data, assets, and even your personnel! **YOU CANNOT SECURE WHAT YOU DON\"T KNOW** \n",
    "\n",
    "We will explore the assets in your organization as part of this exercise.\n",
    "\n",
    "\n",
    "### Key Questions:\n",
    "- What is the distribution of risk levels?\n",
    "- How many assets are in the cloud vs. on-prem?\n",
    "- Which services are most exposed?\n",
    "- How does vulnerability count vary across risk levels?"
   ]
  },
  {
   "cell_type": "code",
   "execution_count": 1,
   "id": "import-libs",
   "metadata": {},
   "outputs": [
    {
     "name": "stderr",
     "output_type": "stream",
     "text": [
      "Matplotlib is building the font cache; this may take a moment.\n"
     ]
    }
   ],
   "source": [
    "# Packages to import\n",
    "\n",
    "import pandas as pd\n",
    "import seaborn as sns\n",
    "import matplotlib.pyplot as plt"
   ]
  },
  {
   "cell_type": "code",
   "execution_count": null,
   "metadata": {},
   "outputs": [],
   "source": [
    "\n",
    "# Configure visualization style\n",
    "sns.set_style(\"whitegrid\")\n",
    "\n",
    "# Load dataset (Update path if necessary)\n",
    "file_path = \"fake_tenable_asm_us_canada.csv\"  # Ensure the file is in the same directory\n",
    "df = pd.read_csv(file_path)\n",
    "\n",
    "# Display first few rows\n",
    "df.head()"
   ]
  },
  {
   "cell_type": "code",
   "execution_count": null,
   "id": "explore-data",
   "metadata": {},
   "outputs": [],
   "source": [
    "# Display dataset info\n",
    "df.info()\n",
    "\n",
    "# Check for missing values -- a good idea if you want to check the quality of your data!\n",
    "df.isnull().sum()\n",
    "\n",
    "# Summary statistics for numerical columns\n",
    "df.describe()"
   ]
  },
  {
   "cell_type": "code",
   "execution_count": null,
   "id": "risk-distribution",
   "metadata": {},
   "outputs": [],
   "source": [
    "# Count plot for risk levels\n",
    "plt.figure(figsize=(8, 5))\n",
    "sns.countplot(data=df, x=\"Risk Level\", order=[\"Critical\", \"High\", \"Medium\", \"Low\", \"Info\"], palette=\"Reds_r\")\n",
    "plt.title(\"Distribution of Risk Levels\")\n",
    "plt.xlabel(\"Risk Level\")\n",
    "plt.ylabel(\"Count\")\n",
    "plt.show()"
   ]
  },
  {
   "cell_type": "code",
   "execution_count": null,
   "id": "cloud-vs-onprem",
   "metadata": {},
   "outputs": [],
   "source": [
    "# Count cloud vs. on-prem assets\n",
    "plt.figure(figsize=(6, 4))\n",
    "sns.countplot(data=df, x=\"Cloud Provider\", order=[\"AWS\", \"Azure\", \"GCP\", \"DigitalOcean\", \"Linode\", \"On-Premises\"], palette=\"Blues_d\")\n",
    "plt.title(\"Cloud vs. On-Prem Assets\")\n",
    "plt.xticks(rotation=30)\n",
    "plt.xlabel(\"Hosting Provider\")\n",
    "plt.ylabel(\"Count\")\n",
    "plt.show()"
   ]
  },
  {
   "cell_type": "code",
   "execution_count": null,
   "id": "service-analysis",
   "metadata": {},
   "outputs": [],
   "source": [
    "# Count most common exposed services\n",
    "plt.figure(figsize=(8, 5))\n",
    "sns.countplot(data=df, y=\"Service\", order=df[\"Service\"].value_counts().index, palette=\"viridis\")\n",
    "plt.title(\"Most Exposed Services\")\n",
    "plt.xlabel(\"Count\")\n",
    "plt.ylabel(\"Service\")\n",
    "plt.show()"
   ]
  },
  {
   "cell_type": "code",
   "execution_count": null,
   "id": "risk-vs-vulns",
   "metadata": {},
   "outputs": [],
   "source": [
    "# Box plot: Risk Level vs. Vulnerabilities Count\n",
    "plt.figure(figsize=(8, 5))\n",
    "sns.boxplot(data=df, x=\"Risk Level\", y=\"Vulnerabilities Count\", order=[\"Critical\", \"High\", \"Medium\", \"Low\", \"Info\"], palette=\"coolwarm\")\n",
    "plt.title(\"Vulnerabilities Count by Risk Level\")\n",
    "plt.xlabel(\"Risk Level\")\n",
    "plt.ylabel(\"Vulnerabilities Count\")\n",
    "plt.ylim(0, df[\"Vulnerabilities Count\"].quantile(0.95))  # Limit extreme outliers\n",
    "plt.show()"
   ]
  },
  {
   "cell_type": "markdown",
   "id": "conclusion",
   "metadata": {},
   "source": [
    "## Key Takeaways:\n",
    "- **Risk Level Distribution**: Helps prioritize mitigation efforts.\n",
    "- **Cloud vs. On-Prem Assets**: Identifies potential exposure in cloud environments.\n",
    "- **Exposed Services**: Highlights commonly exposed attack vectors.\n",
    "- **Risk vs. Vulnerabilities**: Shows correlation between risk level and detected issues.\n",
    "\n",
    "### Next Steps:\n",
    "- Drill down into specific IPs and domains for targeted mitigation.\n",
    "- Identify misconfigured or outdated technologies.\n",
    "- Monitor high-risk assets for frequent scanning."
   ]
  }
 ],
 "metadata": {
  "kernelspec": {
   "display_name": ".venv",
   "language": "python",
   "name": "python3"
  },
  "language_info": {
   "codemirror_mode": {
    "name": "ipython",
    "version": 3
   },
   "file_extension": ".py",
   "mimetype": "text/x-python",
   "name": "python",
   "nbconvert_exporter": "python",
   "pygments_lexer": "ipython3",
   "version": "3.10.16"
  }
 },
 "nbformat": 4,
 "nbformat_minor": 4
}
