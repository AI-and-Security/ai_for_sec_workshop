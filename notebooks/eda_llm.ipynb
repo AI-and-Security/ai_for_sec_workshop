{
 "cells": [
  {
   "cell_type": "markdown",
   "metadata": {},
   "source": [
    "## Exercise 2: Diagnosing what and why\n",
    "\n",
    "This notebook demonstrates how to hunt and diagnose datasets for malicious activity. This dataset is something that a Threat Hunter, Security Operations (SOC) analyst or a detection engineer will encounter in their day-to-day role. We'll use a large language model library called **PandasAI** that provides an LLM interface to dataframes to explore, query and diagnose issues\n",
    "\n",
    "**What's the story?**\n",
    "\n",
    "You are a threat hunter who is proactively looking to secure your organization. You create a hypothesis that you will find some sneaky malicious activity and start looking at network data. This is your exploratory data analysis (EDA) process.\n",
    "\n",
    "\n",
    "### Key Questions:\n",
    "- What can I explore in the data that I have? \n",
    "- Is there a strong dependency of certain fields on one another? How do these interactions play out?"
   ]
  },
  {
   "cell_type": "markdown",
   "metadata": {},
   "source": [
    "# Imports"
   ]
  },
  {
   "cell_type": "code",
   "execution_count": null,
   "metadata": {},
   "outputs": [],
   "source": [
    "import pandas as pd\n",
    "import pandasai as pai \n",
    "import os\n",
    "\n",
    "from dotenv import load_dotenv\n",
    "\n",
    "# pandasai imports\n",
    "from pandasai.llm.openai import OpenAI\n",
    "from pandasai import SmartDataframe\n",
    "from pandasai import clear_cache\n",
    "from pandasai import Agent"
   ]
  },
  {
   "cell_type": "markdown",
   "metadata": {},
   "source": [
    "# Initialization"
   ]
  },
  {
   "cell_type": "code",
   "execution_count": null,
   "metadata": {},
   "outputs": [],
   "source": [
    "READ_FROM_PICKLE = True"
   ]
  },
  {
   "cell_type": "code",
   "execution_count": null,
   "metadata": {},
   "outputs": [],
   "source": [
    "# finds .env file and loads the vars\n",
    "load_dotenv()\n",
    "openai_api_key = os.getenv(\"OPENAI_API_KEY\", \"Key not found\")"
   ]
  },
  {
   "cell_type": "code",
   "execution_count": null,
   "metadata": {},
   "outputs": [],
   "source": [
    "if READ_FROM_PICKLE:\n",
    "    malicious_df = pd.read_pickle(\"../data/malicious_features_numeric.pkl\")\n",
    "    benign_df = pd.read_pickle(\"../data/benign_features_numeric.pkl\")"
   ]
  },
  {
   "cell_type": "code",
   "execution_count": null,
   "metadata": {},
   "outputs": [],
   "source": [
    "# Instantiate a LLM\n",
    "llm = OpenAI(api_token=openai_api_key)"
   ]
  },
  {
   "cell_type": "code",
   "execution_count": null,
   "metadata": {},
   "outputs": [],
   "source": [
    "malicious_smart = SmartDataframe(\n",
    "    df=pd.DataFrame(malicious_df),\n",
    "    config={\"llm\": llm, \"verbose\": True},\n",
    "    name=\"Mirai botnet network packet capture.\",\n",
    "    description=\"A dataframe that is derived from a packet capture of the Mirai botnet network traffic.\",\n",
    ")"
   ]
  },
  {
   "cell_type": "code",
   "execution_count": null,
   "metadata": {},
   "outputs": [],
   "source": [
    "benign_smart = SmartDataframe(\n",
    "    df=pd.DataFrame(benign_df),\n",
    "    config={\"llm\": llm, \"verbose\": True},\n",
    "    name=\"Packet capture of normal operation network travvid.\",\n",
    "    description=\"A dataframe that is derived from a packet capture of the regular operation of a network.\",\n",
    ")"
   ]
  },
  {
   "cell_type": "code",
   "execution_count": null,
   "metadata": {},
   "outputs": [],
   "source": [
    "malicious_smart.columns"
   ]
  },
  {
   "cell_type": "markdown",
   "metadata": {},
   "source": [
    "# EDA"
   ]
  },
  {
   "cell_type": "markdown",
   "metadata": {},
   "source": [
    "## Statistical"
   ]
  },
  {
   "cell_type": "markdown",
   "metadata": {},
   "source": [
    "### Exploration via prompting"
   ]
  },
  {
   "cell_type": "code",
   "execution_count": null,
   "metadata": {},
   "outputs": [],
   "source": [
    "top_5_source_IPs = malicious_smart.chat(\"Which are the 5 most popular source IP addresses?\")\n",
    "\n",
    "top_5_source_IPs"
   ]
  },
  {
   "cell_type": "code",
   "execution_count": null,
   "metadata": {},
   "outputs": [],
   "source": [
    "print(malicious_smart.last_code_generated)"
   ]
  },
  {
   "cell_type": "code",
   "execution_count": null,
   "metadata": {},
   "outputs": [],
   "source": [
    "top_5_dst_ports = malicious_smart.chat(\"Find the most used destination ports.\")\n",
    "top_5_dst_ports"
   ]
  },
  {
   "cell_type": "code",
   "execution_count": null,
   "metadata": {},
   "outputs": [],
   "source": [
    "print(malicious_smart.last_code_generated)"
   ]
  },
  {
   "cell_type": "markdown",
   "metadata": {},
   "source": [
    "### Prompt engineering"
   ]
  },
  {
   "cell_type": "code",
   "execution_count": null,
   "metadata": {},
   "outputs": [],
   "source": [
    "rare_ports = malicious_smart.chat(\n",
    "    \"Which are the most commonly used known destination ports?\"\n",
    ")\n",
    "rare_ports"
   ]
  },
  {
   "cell_type": "code",
   "execution_count": null,
   "metadata": {},
   "outputs": [],
   "source": [
    "rare_ports = malicious_smart.chat(\n",
    "    \"Which are the most used destination ports less than or equal to 1024?\"\n",
    ")\n",
    "rare_ports"
   ]
  },
  {
   "cell_type": "markdown",
   "metadata": {},
   "source": [
    "### Correlation"
   ]
  },
  {
   "cell_type": "code",
   "execution_count": null,
   "metadata": {},
   "outputs": [],
   "source": [
    "correlation = malicious_smart.chat(\n",
    "    \"\"\"1. Calculate the correlation between the source port and the length of a packet.\n",
    "       2. Explain if the correlation that you calculated is significant and why.\n",
    "    \"\"\"\n",
    ")\n",
    "correlation"
   ]
  },
  {
   "cell_type": "markdown",
   "metadata": {},
   "source": [
    "### Hypothesis testing\n",
    "- Is there sufficient reason to believe that one data points has interaction with another? \n",
    "- If yes, how do we quantify it?"
   ]
  },
  {
   "cell_type": "code",
   "execution_count": null,
   "metadata": {},
   "outputs": [],
   "source": [
    "hypothesis = malicious_smart.chat(\n",
    "    \"Is the difference between dst_ip_total_bytes and Packet Length statistically significant?\"\n",
    ")\n",
    "hypothesis"
   ]
  },
  {
   "cell_type": "markdown",
   "metadata": {},
   "source": [
    "### Outliers"
   ]
  },
  {
   "cell_type": "code",
   "execution_count": null,
   "metadata": {},
   "outputs": [],
   "source": [
    "outliers = malicious_smart.chat(\n",
    "    \"Find the z score of the Packet Length and then calculate the top ten outliers.\"\n",
    ")\n",
    "outliers"
   ]
  },
  {
   "cell_type": "markdown",
   "metadata": {},
   "source": [
    "## Visualizations"
   ]
  },
  {
   "cell_type": "code",
   "execution_count": null,
   "metadata": {},
   "outputs": [],
   "source": [
    "malicious_smart.chat(\n",
    "    \"Plot the heatmap of the correlations of all variables.\"\n",
    ")"
   ]
  },
  {
   "cell_type": "markdown",
   "metadata": {},
   "source": [
    "#### ATTENDEE EXERCISE: Clear more visualizations that you think will be helpful via prompting"
   ]
  },
  {
   "cell_type": "code",
   "execution_count": null,
   "metadata": {},
   "outputs": [],
   "source": []
  },
  {
   "cell_type": "markdown",
   "metadata": {},
   "source": [
    "# Agents"
   ]
  },
  {
   "cell_type": "code",
   "execution_count": null,
   "metadata": {},
   "outputs": [],
   "source": [
    "from pandasai import Agent"
   ]
  },
  {
   "cell_type": "code",
   "execution_count": null,
   "metadata": {},
   "outputs": [],
   "source": [
    "agent = Agent(malicious_smart, config={\"llm\": llm},memory_size=1000)"
   ]
  },
  {
   "cell_type": "code",
   "execution_count": null,
   "metadata": {},
   "outputs": [],
   "source": [
    "agent.chat('Is this dataframe indicating malicious or benign network behavior?')"
   ]
  },
  {
   "cell_type": "code",
   "execution_count": null,
   "metadata": {},
   "outputs": [],
   "source": [
    "agent.chat('The dataframe that you have been given is a packet capture of computer network traffic. It has numerical features that characterize the packets that have been observed in this network. A packet capture is malicious if it has too many requests to ports that are unusual. Usual ports are 23 for Telnet, 22 for SSH and 80 for HTTP. Is this packet capture malicious or benign?')"
   ]
  },
  {
   "cell_type": "code",
   "execution_count": null,
   "metadata": {},
   "outputs": [],
   "source": [
    "agent.explain()"
   ]
  },
  {
   "cell_type": "markdown",
   "metadata": {},
   "source": [
    "# Clear cache"
   ]
  },
  {
   "cell_type": "code",
   "execution_count": null,
   "metadata": {},
   "outputs": [],
   "source": [
    "clear_cache()"
   ]
  }
 ],
 "metadata": {
  "kernelspec": {
   "display_name": ".venv",
   "language": "python",
   "name": "python3"
  },
  "language_info": {
   "codemirror_mode": {
    "name": "ipython",
    "version": 3
   },
   "file_extension": ".py",
   "mimetype": "text/x-python",
   "name": "python",
   "nbconvert_exporter": "python",
   "pygments_lexer": "ipython3",
   "version": "3.10.16"
  }
 },
 "nbformat": 4,
 "nbformat_minor": 2
}
